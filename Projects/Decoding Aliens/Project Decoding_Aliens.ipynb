### <u>Problem 1</u>
#### You are given such a tuple of strings, what will be your approach to decode it?


#### Solution
 - Calculate len of every element in the tuple, store it in the new list.
 - For space between words the length will be 0.
 - for above example this new list will be [8, 9, 0, 19, 1, 14, 20, 1], let's call this list **l**
 - Create a dictionary **d** where key is numbers from {1 to 26 and 0} and values are {a to z and " "(single space)}
 - using elements of list **l** as key of the dictinary, create a string of its values and this will be our message

### <u>Problem 2</u>
Create a dictionary where the key corresponds to the position of the alphabet(consider space as the first alphabet) and the value corresponding to the key will be the alphabet.

# Create your dictionary below with keys as position of the alphabet and the value of the key will be the alphabet itself
dict1={0: ' ', 1: 'a', 2: 'b', 3: 'c', 4: 'd', 5: 'e', 6: 'f', 7: 'g', 8: 'h', 9: 'i', 10: 'j', 11: 'k', 12: 'l', 13: 'm', 14: 'n', 15: 'o', 16: 'p', 17: 'q', 18: 'r', 19: 's', 20: 't', 21: 'u', 22: 'v', 23: 'w', 24: 'x', 25: 'y', 26: 'z'}

# Print your dictionary to double check;  any small mistake in numbering can screw up the results
print(dict1)

### <u>Problem 3</u>

### Suppose you are given a particular value from the dictionary. Write the code to extract the corresponding key from the dictionary

* For example, if you are given the value <code>'h'</code>, the corresponding key should be <code>8</code>

# Extract keys and values and store it as lists
values = list(dict1.values())
keys = list(dict1.keys())
#find the index of given alphabet in values
index = values.index('h')
#use this index in list of keys to extract associated key with that value
print("the corresponding key: ",keys[index])

### <u>Problem 4</u>
#### Scientists receive the following message code from the alien civilization

```
encrypyted_message = ("ajsuydtbe", "", "wunjbfusnjrgut", "uhbhr", "oirun", "lpef", "", "vhejsibr", "ydtse", "qlvuusrntuos", "ijwlbutybhlsoaxh")
```
#### You have been asked to decode the above message

# Store the message in a variable
t = ("ajsuydtbe", "", "wunjbfusnjrgut", "uhbhr", "oirun", "lpef", "", "vhejsibr", "ydtse", "qlvuusrntuos", "ijwlbutybhlsoaxh")
print(t)

#len
list1 = []
i=0
for i in range(0,len(t)):
  a = len(t[i])
  list1.append(a)
print(list1)

# Follow the steps from your solution to problem 1

# Create an empty list

# Append the length of strings of your tuple one by one

# Print the list of string lengths


# Create a string to store the decrypyted message
decrypted_message = ''
# Concatenate the characters one by one to get your final decoded message
for i in range(0,len(list1)):
  x = list1[i]
  decrypted_message = decrypted_message + values[x]

# Print the message you have decrypted
print(decrypted_message)

###<u>Problem 5</u>

### Encrypt a message for the alien civilization which the scientists can send through the EM signals. Scientists want to ask the aliens <code>"why" </code>

# You already have the list of keys and values of the alphabet dictionary
a = "why"
msg_keys = []
# Find the keys for the above message
for i in a:
  index = values.index(i)
  msg_keys.append(keys[index])

# Create a list of the message keys you obtained from above

# Print the encoded list of the message keys
print(msg_keys)

### <u>Problem 6</u>

### Get the encrypted message using the final list obtained in the above problem  where you will use only alphabet <code>"a"</code>

# Get the individual strings for "w","h","y"
enc_list = []

for i in range(0,len(msg_keys)):
  string1 = ""
  string1 = string1 + "a"*msg_keys[i]
  enc_list.append(string1)

# Create a tuple using the strings you obtained
enc_tuple = tuple(enc_list)
# Print the encrypted message
print("Encrypted message: ",enc_tuple)

### <u> Problem 7</u>

#### Aliens receive the reply from the scientists. They decode the message and send an encrypted message again. Due to some aberrations because of an existing very massive star, one of the words of their message gets transformed into something gibberish/unreadable. They sent the following message:

* <code> I saw a \<**some gibberish**> please help me soon

#### Scientists were baffled by the presence of such an indecipherable word in the message sent by Aliens. Suddenly they receive another signal from them which contains the gibberish word but this time the letters have been jumbled up. Scientists need to sort the letters of this word in alphabetical order within it to get the actual transmitted word

#### The encoded list of the unknown word is:

```
jumbled_word = ["hugdtck", "tsogbklesrawqcbjplu", "qkisrubskoaitbt", "nslaoetr", "oksinjioaendnjsdqwbh"]
```


# STore the list of jumbled word in a variable
jumbled_word = ["hugdtck", "tsogbklesrawqcbjplu", "qkisrubskoaitbt", "nslaoetr", "oksinjioaendnjsdqwbh"]

# Create an empty list
list1 = []
i=0
for i in range(0,len(jumbled_word)):
  a = len(jumbled_word[i])
  list1.append(a) # Append the length of each string in the list
print(list1) # Print the above list

# Create another list to store the corresponding characters
chars = []
# Concatenate the characters one by one to get your final decoded message
for i in range(0,len(list1)):
  x = list1[i]
  chars.append(values[x])

# Print the message you have decrypted

print(chars) # Print this list of jumbled charecters

# Get the  sorted list
wordlist = sorted(chars)
print(wordlist) # Print the sorted list

# Get all the characters in one word
word = ""
for i in range(0,len(wordlist)):
  word += wordlist[i]

word

# Print the complete message
print("I saw a {0} please help me soon".format(word))
