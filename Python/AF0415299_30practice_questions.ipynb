{
  "nbformat": 4,
  "nbformat_minor": 0,
  "metadata": {
    "colab": {
      "provenance": []
    },
    "kernelspec": {
      "name": "python3",
      "display_name": "Python 3"
    },
    "language_info": {
      "name": "python"
    }
  },
  "cells": [
    {
      "cell_type": "code",
      "execution_count": 3,
      "metadata": {
        "colab": {
          "base_uri": "https://localhost:8080/"
        },
        "id": "fnLUOWCFq1zB",
        "outputId": "024f61b8-7efd-4870-fbd5-a43840a70a94"
      },
      "outputs": [
        {
          "output_type": "stream",
          "name": "stdout",
          "text": [
            "Enter 1st num: 10\n",
            "Enter 2nd num: 15\n",
            "Enter 3rd num: 20\n",
            "20 3rd number is greater\n"
          ]
        }
      ],
      "source": [
        "num1 = int(input(\"Enter 1st num: \"))\n",
        "num2 = int(input(\"Enter 2nd num: \"))\n",
        "num3 = int(input(\"Enter 3rd num: \"))\n",
        "if (num1>num2 and num1>num3):\n",
        "  print(num1,\"1st number is greater\")\n",
        "elif(num2>num1 and num2>num3):\n",
        "  print(num2, \"2nd number is greater\")\n",
        "else:\n",
        "  print(num3,\"3rd number is greater\")"
      ]
    },
    {
      "cell_type": "markdown",
      "source": [
        "Question 1: Write a Python program that assigns a grade to a student based on their exam score. If the score is greater than or equal to 90, assign grade \"A\"; if it is between 80 and 89, assign grade \"B\"; if it is between 70 and 79, assign grade \"C\"; if it is between 60 and 69, assign grade \"D\"; otherwise, assign grade \"F\".\n"
      ],
      "metadata": {
        "id": "xoW0Zjk6tPnk"
      }
    },
    {
      "cell_type": "code",
      "source": [
        "score = int(input(\"Enter the score of student: \"))\n",
        "if score>=90:\n",
        "  print(\"Grade = A\")\n",
        "elif score>=80:\n",
        "  print(\"Grade = B\")\n",
        "elif score>=70:\n",
        "  print(\"Grade = C\")\n",
        "elif score>=60:\n",
        "  print(\"Grade = D\")\n",
        "else:\n",
        "  print(\"Grade = F\")"
      ],
      "metadata": {
        "colab": {
          "base_uri": "https://localhost:8080/"
        },
        "id": "JzE0Fe3ttUzR",
        "outputId": "e19cfdd7-ae6d-4399-ee1d-b37ee84b7e93"
      },
      "execution_count": 5,
      "outputs": [
        {
          "output_type": "stream",
          "name": "stdout",
          "text": [
            "Enter the score of student: 70\n",
            "Grade = C\n"
          ]
        }
      ]
    },
    {
      "cell_type": "markdown",
      "source": [
        "Question 2: Write a Python program that determines the season based on a given month. If the month is between March and May, print \"Spring\"; if it is between June and August, print \"Summer\"; if it is between September and November, print \"Autumn\"; if it is between December and February, print \"Winter\".\n"
      ],
      "metadata": {
        "id": "sKXmug7_tSCP"
      }
    },
    {
      "cell_type": "code",
      "source": [
        "month = input(\"Enter the month: \")\n",
        "spring = [\"March\",\"April\",\"May\"]\n",
        "summer = [\"June\",\"July\",\"August\"]\n",
        "autumn = [\"September\",\"October\",\"November\"]\n",
        "winter = [\"December\",\"January\",\"February\"]\n",
        "if month in spring:\n",
        "  print(\"Spring\")\n",
        "elif month in summer:\n",
        "  print(\"Summer\")\n",
        "elif month in autumn:\n",
        "  print(\"Autumn\")\n",
        "elif month in winter:\n",
        "  print(\"Winter\")\n",
        "else:\n",
        "  print(\"Enter valid month or check the spelling\")"
      ],
      "metadata": {
        "colab": {
          "base_uri": "https://localhost:8080/"
        },
        "id": "fgpu5gJEusJs",
        "outputId": "0ee6c4d1-eddd-472d-cdcd-87edf9fa0293"
      },
      "execution_count": 11,
      "outputs": [
        {
          "output_type": "stream",
          "name": "stdout",
          "text": [
            "Enter the month: July\n",
            "Summer\n"
          ]
        }
      ]
    },
    {
      "cell_type": "markdown",
      "source": [
        "####Question 3: Write a Python program that calculates the shipping cost based on the weight of a package. If the weight is less than or equal to 2 kg, the shipping cost is Rs 5; if it is between 2 kg and 5 kg, the shipping cost is Rs 10; if it is between 5 kg and 10 kg, the shipping cost is Rs 15; otherwise, the shipping cost is Rs 20."
      ],
      "metadata": {
        "id": "2DkUEK2utTnq"
      }
    },
    {
      "cell_type": "code",
      "source": [
        "weight = float(input(\"Enter the weight of package in kg: \"))\n",
        "if weight<=2:\n",
        "  print(\"Shipping cost = $\",5)\n",
        "elif weight<=5:\n",
        "  print(\"Shipping cost = $\",10)\n",
        "elif weight<=10:\n",
        "  print(\"Shipping cost = $\",15)\n",
        "else:\n",
        "  print(\"Shipping cost = $\",20)"
      ],
      "metadata": {
        "colab": {
          "base_uri": "https://localhost:8080/"
        },
        "id": "rMud7950wyzH",
        "outputId": "444823c5-38ff-4b0f-c558-eaeb7d56bd8c"
      },
      "execution_count": 10,
      "outputs": [
        {
          "output_type": "stream",
          "name": "stdout",
          "text": [
            "Enter the weight of package in kg: 15\n",
            "Shipping cost = $ 20\n"
          ]
        }
      ]
    },
    {
      "cell_type": "markdown",
      "source": [
        "###Simple if statements:\n",
        "####Question 1: Write a Python program that checks if a given number is even. If it is, print \"Even number\".\n"
      ],
      "metadata": {
        "id": "FlD7HxFkzH7k"
      }
    },
    {
      "cell_type": "code",
      "source": [
        "num1 = int(input(\"Enter a number: \"))\n",
        "if num1 % 2==0:\n",
        "  print(\"Even Number\")"
      ],
      "metadata": {
        "colab": {
          "base_uri": "https://localhost:8080/"
        },
        "id": "3ekFVWVCzUb-",
        "outputId": "7ba12e6a-9d4e-461e-9731-0afb28ab86e7"
      },
      "execution_count": 2,
      "outputs": [
        {
          "output_type": "stream",
          "name": "stdout",
          "text": [
            "Enter a number: 2\n",
            "Even Number\n"
          ]
        }
      ]
    },
    {
      "cell_type": "markdown",
      "source": [
        "Question 2: Write a Python program that checks if a given string contains the letter 'a'. If it does, print \"String contains 'a'\".\n"
      ],
      "metadata": {
        "id": "JWeayF1IzU9X"
      }
    },
    {
      "cell_type": "code",
      "source": [
        "string1 = input(\"Enter a string: \")\n",
        "if \"a\" in string1:\n",
        "  print(\"String contains 'a'\")"
      ],
      "metadata": {
        "colab": {
          "base_uri": "https://localhost:8080/"
        },
        "id": "XYhG7YcqzWve",
        "outputId": "f83029a0-0868-4eb8-c3a9-d9cffef20f0f"
      },
      "execution_count": 6,
      "outputs": [
        {
          "output_type": "stream",
          "name": "stdout",
          "text": [
            "Enter a string: football\n",
            "String contains 'a'\n"
          ]
        }
      ]
    },
    {
      "cell_type": "markdown",
      "source": [
        "Question 3: Write a Python program that checks if a given year is a leap year. If it is, print \"Leap year\".\n"
      ],
      "metadata": {
        "id": "ywxmVzM-zXBA"
      }
    },
    {
      "cell_type": "code",
      "source": [
        "year = int(input(\"Enter a year: \"))\n",
        "if year % 4 == 0:\n",
        "  print(\"Leap year\")"
      ],
      "metadata": {
        "colab": {
          "base_uri": "https://localhost:8080/"
        },
        "id": "zw1tYaWczYhz",
        "outputId": "743db22a-6a48-4f14-e7fa-3e0db436dc21"
      },
      "execution_count": 7,
      "outputs": [
        {
          "output_type": "stream",
          "name": "stdout",
          "text": [
            "Enter a year: 2004\n",
            "Leap year\n"
          ]
        }
      ]
    },
    {
      "cell_type": "markdown",
      "source": [
        "Question 4: Write a Python program that checks if a given number is positive. If it is, print \"Positive number\".\n"
      ],
      "metadata": {
        "id": "9uqwKVzlzYw5"
      }
    },
    {
      "cell_type": "code",
      "source": [
        "num1 = int(input(\"Enter a number: \"))\n",
        "if num1 > 0:\n",
        "  print(\"Positive number\")"
      ],
      "metadata": {
        "colab": {
          "base_uri": "https://localhost:8080/"
        },
        "id": "8k6dqUtmzaU7",
        "outputId": "045951d8-7d7d-4d65-c246-f00b038a7ddf"
      },
      "execution_count": 9,
      "outputs": [
        {
          "output_type": "stream",
          "name": "stdout",
          "text": [
            "Enter a number: 12\n",
            "Positive number\n"
          ]
        }
      ]
    },
    {
      "cell_type": "markdown",
      "source": [
        "Question 5: Write a Python program that checks if a given character is a vowel. If it is, print \"Vowel\".\n"
      ],
      "metadata": {
        "id": "MaXeiWOuzalU"
      }
    },
    {
      "cell_type": "code",
      "source": [
        "char = input(\"Enter a character: \")\n",
        "if char in [\"a\",'e','i','o','u','A','E','I','O','U']:\n",
        "  print(\"Vowel\")"
      ],
      "metadata": {
        "colab": {
          "base_uri": "https://localhost:8080/"
        },
        "id": "nCMFex1KzcPt",
        "outputId": "8495c0b6-aba7-4bd2-fad5-b2b1f2e2d2b4"
      },
      "execution_count": 12,
      "outputs": [
        {
          "output_type": "stream",
          "name": "stdout",
          "text": [
            "Enter a character: a\n",
            "Vowel\n"
          ]
        }
      ]
    },
    {
      "cell_type": "markdown",
      "source": [
        "Question 6: Write a Python program that checks if a given number is greater than 100. If it is, print \"Greater than 100\".\n"
      ],
      "metadata": {
        "id": "ZqFcJb4dzceJ"
      }
    },
    {
      "cell_type": "code",
      "source": [
        "num1 = int(input(\"Enter a number: \"))\n",
        "if num1>100:\n",
        "  print(\"Greater than 100\")"
      ],
      "metadata": {
        "colab": {
          "base_uri": "https://localhost:8080/"
        },
        "id": "lBoviZuIzeDR",
        "outputId": "3f4a39ca-819d-4053-e4ac-88f319006115"
      },
      "execution_count": 16,
      "outputs": [
        {
          "output_type": "stream",
          "name": "stdout",
          "text": [
            "Enter a number: 111\n",
            "Greater than 100\n"
          ]
        }
      ]
    },
    {
      "cell_type": "markdown",
      "source": [
        "Question 7: Write a Python program that checks if a given string is empty. If it is, print \"Empty string\".\n"
      ],
      "metadata": {
        "id": "b4KhuWchzeVf"
      }
    },
    {
      "cell_type": "code",
      "source": [
        "string_1 = input(\"Enter a string: \")\n",
        "if len(string_1) == 0:\n",
        "  print(\"Empty string\")"
      ],
      "metadata": {
        "colab": {
          "base_uri": "https://localhost:8080/"
        },
        "id": "YC0hi_ktzgTI",
        "outputId": "7e5ad366-a5ea-42a3-9259-84b4ba28baf8"
      },
      "execution_count": 20,
      "outputs": [
        {
          "output_type": "stream",
          "name": "stdout",
          "text": [
            "Enter a string: \n",
            "Empty string\n"
          ]
        }
      ]
    },
    {
      "cell_type": "markdown",
      "source": [
        "Question 8: Write a Python program that checks if a given number is divisible by both 5 and 7. If it is, print \"Divisible by 5 and 7\".\n"
      ],
      "metadata": {
        "id": "RRZKEsNhzgi4"
      }
    },
    {
      "cell_type": "code",
      "source": [
        "num1 = int(input(\"Enter a number: \"))\n",
        "if num1 % 5 == 0 and num1 % 7 == 0:\n",
        "  print(\"Divisible by 5 and 7\")"
      ],
      "metadata": {
        "colab": {
          "base_uri": "https://localhost:8080/"
        },
        "id": "RfuDpkeJziHS",
        "outputId": "11ab272a-c5fc-4a03-bbb9-39d1b28f688a"
      },
      "execution_count": 23,
      "outputs": [
        {
          "output_type": "stream",
          "name": "stdout",
          "text": [
            "Enter a number: 35\n",
            "Divisible by 5 and 7\n"
          ]
        }
      ]
    },
    {
      "cell_type": "markdown",
      "source": [
        "Question 9: Write a Python program that checks if a given list contains any negative numbers. If it does, print \"List contains negative numbers\".\n"
      ],
      "metadata": {
        "id": "JoNK716mzidy"
      }
    },
    {
      "cell_type": "code",
      "source": [
        "list_1 = [1, -2,3,4,-4]\n",
        "for i in list_1:\n",
        "  if i<0:\n",
        "    print(\"List contains negative numbers\")"
      ],
      "metadata": {
        "colab": {
          "base_uri": "https://localhost:8080/"
        },
        "id": "eFHDBsDczkKC",
        "outputId": "c1b4c878-44e7-484b-febd-3df6b76cc10c"
      },
      "execution_count": 27,
      "outputs": [
        {
          "output_type": "stream",
          "name": "stdout",
          "text": [
            "List contains negative numbers\n",
            "List contains negative numbers\n"
          ]
        }
      ]
    },
    {
      "cell_type": "markdown",
      "source": [
        "Question 10: Write a Python program that checks if a given word is a palindrome. If it is, print \"Palindrome\"."
      ],
      "metadata": {
        "id": "xtRuyR-dzkY-"
      }
    },
    {
      "cell_type": "code",
      "source": [
        "word = input(\"Enter a word: \")\n",
        "if word[:] == word[::-1]:\n",
        "  print(\"Palindrome\")"
      ],
      "metadata": {
        "colab": {
          "base_uri": "https://localhost:8080/"
        },
        "id": "PhysnHHJzlcP",
        "outputId": "105a39bf-7b86-45eb-cc6c-13d43331850c"
      },
      "execution_count": 2,
      "outputs": [
        {
          "output_type": "stream",
          "name": "stdout",
          "text": [
            "Enter a word: madam\n",
            "Palindrome\n"
          ]
        }
      ]
    },
    {
      "cell_type": "markdown",
      "source": [
        "###if-else statements:\n",
        "####Question 1: Write a Python program that checks if a given number is positive. If it is, print \"Positive number\"; otherwise, print \"Negative number\".\n"
      ],
      "metadata": {
        "id": "DhSzgnmI0xHk"
      }
    },
    {
      "cell_type": "code",
      "source": [
        "num1 = int(input(\"Enter a number: \"))\n",
        "if num1 > 0:\n",
        "  print(\"Positive number\")\n",
        "else:\n",
        "  print(\"Negative number\")"
      ],
      "metadata": {
        "colab": {
          "base_uri": "https://localhost:8080/"
        },
        "id": "60_OTZv30zxf",
        "outputId": "51dc16a0-11cf-4486-ba4c-ab42b55b8bdf"
      },
      "execution_count": 8,
      "outputs": [
        {
          "output_type": "stream",
          "name": "stdout",
          "text": [
            "Enter a number: -4\n",
            "Negative number\n"
          ]
        }
      ]
    },
    {
      "cell_type": "markdown",
      "source": [
        "Question 2: Write a Python program that checks if a given string is empty. If it is, print \"Empty string\"; otherwise, print \"Non-empty string\".\n"
      ],
      "metadata": {
        "id": "bvaANGlf0z_u"
      }
    },
    {
      "cell_type": "code",
      "source": [
        "string_1 = input(\"Enter a string: \")\n",
        "if len(string_1) == 0:\n",
        "  print(\"Empty string\")\n",
        "else:\n",
        "  print(\"Non-empty string\")"
      ],
      "metadata": {
        "colab": {
          "base_uri": "https://localhost:8080/"
        },
        "id": "cye_yZc501vh",
        "outputId": "57dcfa9b-5e2f-4e51-ccae-3d80338e0e58"
      },
      "execution_count": 9,
      "outputs": [
        {
          "output_type": "stream",
          "name": "stdout",
          "text": [
            "Enter a string: \n",
            "Empty string\n"
          ]
        }
      ]
    },
    {
      "cell_type": "markdown",
      "source": [
        "Question 3: Write a Python program that checks if a given number is even. If it is, print \"Even number\"; otherwise, print \"Odd number\".\n"
      ],
      "metadata": {
        "id": "Wx0JroMA02Bx"
      }
    },
    {
      "cell_type": "code",
      "source": [
        "num1 = int(input(\"Enter a number: \"))\n",
        "if num1 % 2==0:\n",
        "  print(\"Even Number\")\n",
        "else:\n",
        "  print(\"Odd Number\")"
      ],
      "metadata": {
        "colab": {
          "base_uri": "https://localhost:8080/"
        },
        "id": "fSfNUWEP03h9",
        "outputId": "cf7bdcfe-5afa-456d-db46-f1f3952d16df"
      },
      "execution_count": 10,
      "outputs": [
        {
          "output_type": "stream",
          "name": "stdout",
          "text": [
            "Enter a number: 4\n",
            "Even Number\n"
          ]
        }
      ]
    },
    {
      "cell_type": "markdown",
      "source": [
        "Question 4: Write a Python program that checks if a given character is a vowel. If it is, print \"Vowel\"; otherwise, print \"Consonant\".\n"
      ],
      "metadata": {
        "id": "y-Ueu6Tl03yz"
      }
    },
    {
      "cell_type": "code",
      "source": [
        "char = input(\"Enter a character: \")\n",
        "if char in [\"a\",'e','i','o','u','A','E','I','O','U']:\n",
        "  print(\"Vowel\")\n",
        "else:\n",
        "  print(\"Consonant\")"
      ],
      "metadata": {
        "colab": {
          "base_uri": "https://localhost:8080/"
        },
        "id": "nmX0hITz05T7",
        "outputId": "38bcdc7a-0355-4de9-d4cf-cbf07b355890"
      },
      "execution_count": 11,
      "outputs": [
        {
          "output_type": "stream",
          "name": "stdout",
          "text": [
            "Enter a character: b\n",
            "Consonant\n"
          ]
        }
      ]
    },
    {
      "cell_type": "markdown",
      "source": [
        "Question 5: Write a Python program that checks if a given year is a leap year. If it is, print \"Leap year\"; otherwise, print \"Not a leap year\".\n"
      ],
      "metadata": {
        "id": "VIsTt0c405lt"
      }
    },
    {
      "cell_type": "code",
      "source": [
        "year = int(input(\"Enter a year: \"))\n",
        "if year % 4 == 0:\n",
        "  print(\"Leap year\")\n",
        "else:\n",
        "  print(\"Not a leap year\")"
      ],
      "metadata": {
        "colab": {
          "base_uri": "https://localhost:8080/"
        },
        "id": "Qn8P8KTK07K3",
        "outputId": "da10fa52-5e49-40db-c777-094447642246"
      },
      "execution_count": 12,
      "outputs": [
        {
          "output_type": "stream",
          "name": "stdout",
          "text": [
            "Enter a year: 2004\n",
            "Leap year\n"
          ]
        }
      ]
    },
    {
      "cell_type": "markdown",
      "source": [
        "Question 6: Write a Python program that checks if a given number is divisible by 3. If it is, print \"Divisible by 3\"; otherwise, print \"Not divisible by 3\".\n"
      ],
      "metadata": {
        "id": "4U0iQdz207gN"
      }
    },
    {
      "cell_type": "code",
      "source": [
        "num1 = int(input(\"Enter a number: \"))\n",
        "if num1 % 3 == 0:\n",
        "  print(\"Divisible by 3\")\n",
        "else:\n",
        "  print(\"Not divisible by 3\")"
      ],
      "metadata": {
        "colab": {
          "base_uri": "https://localhost:8080/"
        },
        "id": "LQ8O2cTT09XA",
        "outputId": "8b0e97c8-162b-4796-ed5e-40bcace0d252"
      },
      "execution_count": 13,
      "outputs": [
        {
          "output_type": "stream",
          "name": "stdout",
          "text": [
            "Enter a number: 15\n",
            "Divisible by 3\n"
          ]
        }
      ]
    },
    {
      "cell_type": "markdown",
      "source": [
        "Question 7: Write a Python program that checks if a given string is a palindrome. If it is, print \"Palindrome\"; otherwise, print \"Not a palindrome\".\n"
      ],
      "metadata": {
        "id": "6odzazpo09lR"
      }
    },
    {
      "cell_type": "code",
      "source": [
        "string_1 = input(\"Enter a string: \")\n",
        "if string_1[:] == string_1[::-1]:\n",
        "  print(\"Palindrome\")\n",
        "else:\n",
        "  print(\"Not a palindrome\")"
      ],
      "metadata": {
        "colab": {
          "base_uri": "https://localhost:8080/"
        },
        "id": "dNoj286s0_RO",
        "outputId": "d50b9726-6f4f-4139-f529-8489ac7db97f"
      },
      "execution_count": 14,
      "outputs": [
        {
          "output_type": "stream",
          "name": "stdout",
          "text": [
            "Enter a string: malayalam\n",
            "Palindrome\n"
          ]
        }
      ]
    },
    {
      "cell_type": "markdown",
      "source": [
        "Question 8: Write a Python program that checks if a given list is empty. If it is, print \"Empty list\"; otherwise, print \"Non-empty list\".\n"
      ],
      "metadata": {
        "id": "I8P8nPhO0_hz"
      }
    },
    {
      "cell_type": "code",
      "source": [
        "list_1 = [1,2,3,4]\n",
        "if len(list_1) == 0:\n",
        "  print(\"Empty list\")\n",
        "else:\n",
        "  print(\"Non-empty list\")"
      ],
      "metadata": {
        "colab": {
          "base_uri": "https://localhost:8080/"
        },
        "id": "8YmevapF1CM9",
        "outputId": "bbc2d811-e13c-4a51-f508-62c448f10cca"
      },
      "execution_count": 15,
      "outputs": [
        {
          "output_type": "stream",
          "name": "stdout",
          "text": [
            "Non-empty list\n"
          ]
        }
      ]
    },
    {
      "cell_type": "markdown",
      "source": [
        "Question 9: Write a Python program that checks if a given number is greater than, less than, or equal to 50. Print the corresponding message.\n"
      ],
      "metadata": {
        "id": "Xzs2CwEp1CdR"
      }
    },
    {
      "cell_type": "code",
      "source": [
        "num1 = int(input(\"Enter a number: \"))\n",
        "if num1 > 50:\n",
        "  print(\"Greater than 50\")\n",
        "if num1 < 50:\n",
        "  print(\"Less than 50\")\n",
        "else:\n",
        "  print(\"Equal to 50\")"
      ],
      "metadata": {
        "colab": {
          "base_uri": "https://localhost:8080/"
        },
        "id": "CAdl0N_J1FQS",
        "outputId": "86b74ff4-4b56-4e58-96ce-bf8e061119ca"
      },
      "execution_count": 16,
      "outputs": [
        {
          "output_type": "stream",
          "name": "stdout",
          "text": [
            "Enter a number: 45\n",
            "Less than 50\n"
          ]
        }
      ]
    },
    {
      "cell_type": "markdown",
      "source": [
        "Question 10: Write a Python program that checks if a given character is an uppercase letter. If it is, print \"Uppercase\"; otherwise, print \"Lowercase\"."
      ],
      "metadata": {
        "id": "KJ1v1_XK1FkG"
      }
    },
    {
      "cell_type": "code",
      "source": [],
      "metadata": {
        "id": "u7W9TieK1Gth"
      },
      "execution_count": null,
      "outputs": []
    },
    {
      "cell_type": "markdown",
      "source": [
        "####if-elif-else statements:\n",
        "Question 1: Write a Python program that checks if a given number is positive, negative, or zero. Print the corresponding message.\n"
      ],
      "metadata": {
        "id": "SBA_Ykjtvv5q"
      }
    },
    {
      "cell_type": "code",
      "source": [
        "num1 = int(input(\"Enter a number: \"))\n",
        "if num1 > 0:\n",
        "  print(\"Positive number\")\n",
        "elif num1 < 0:\n",
        "  print(\"Negative number\")\n",
        "else:\n",
        "  print(\"zero\")"
      ],
      "metadata": {
        "colab": {
          "base_uri": "https://localhost:8080/"
        },
        "id": "BWXeU26hvyi7",
        "outputId": "d2bf85b9-8b5d-4275-d0cb-eeb2697bc0fe"
      },
      "execution_count": 12,
      "outputs": [
        {
          "output_type": "stream",
          "name": "stdout",
          "text": [
            "Enter a number: 0\n",
            "zero\n"
          ]
        }
      ]
    },
    {
      "cell_type": "markdown",
      "source": [
        "Question 2: Write a Python program that compares two numbers and prints the larger number.\n"
      ],
      "metadata": {
        "id": "M7in9Hqovyxw"
      }
    },
    {
      "cell_type": "code",
      "source": [
        "num1 = int(input(\"Enter 1st num: \"))\n",
        "num2 = int(input(\"Enter 2nd num: \"))\n",
        "if num1>num2:\n",
        "  print(num1,\"is greater\")\n",
        "else:\n",
        "  print(num2,\"is greater\")"
      ],
      "metadata": {
        "colab": {
          "base_uri": "https://localhost:8080/"
        },
        "id": "QW3kdveKv06u",
        "outputId": "1c2146c3-c012-45a8-9118-28680c8f7767"
      },
      "execution_count": 17,
      "outputs": [
        {
          "output_type": "stream",
          "name": "stdout",
          "text": [
            "Enter 1st num: 2\n",
            "Enter 2nd num: 4\n",
            "4 is greater\n"
          ]
        }
      ]
    },
    {
      "cell_type": "markdown",
      "source": [
        "Question 3: Write a Python program that determines whether a given temperature is hot, warm, or cold. Print the corresponding message.\n"
      ],
      "metadata": {
        "id": "b5UX6Hzmv1Ic"
      }
    },
    {
      "cell_type": "code",
      "source": [
        "temp = int(input(\"Enter temperature: \"))\n",
        "if temp>30:\n",
        "  print(\"Hot\")\n",
        "elif temp>20:\n",
        "  print(\"Warm\")\n",
        "else:\n",
        "  print(\"Cold\")"
      ],
      "metadata": {
        "colab": {
          "base_uri": "https://localhost:8080/"
        },
        "id": "mwiKXSCyv289",
        "outputId": "d84a7eee-ab76-4d2a-c640-49df5d76465f"
      },
      "execution_count": 18,
      "outputs": [
        {
          "output_type": "stream",
          "name": "stdout",
          "text": [
            "Enter temperature: 25\n",
            "Warm\n"
          ]
        }
      ]
    },
    {
      "cell_type": "markdown",
      "source": [
        "Question 4: Write a Python program that checks if a given year is a leap year, a century year, or neither. Print the corresponding message.\n"
      ],
      "metadata": {
        "id": "Hxhq8GJRv3Jd"
      }
    },
    {
      "cell_type": "code",
      "source": [
        "year = int(input(\"Enter year: \"))\n",
        "if year % 100 == 0:\n",
        "  print(\"Century year\")\n",
        "elif year % 4 == 0:\n",
        "  print(\"Leap year\")\n",
        "else:\n",
        "  print(\"Neither\")"
      ],
      "metadata": {
        "colab": {
          "base_uri": "https://localhost:8080/"
        },
        "id": "T3G176nBv5Go",
        "outputId": "9af4eb60-624a-47e0-b26e-d5a9151cd066"
      },
      "execution_count": 19,
      "outputs": [
        {
          "output_type": "stream",
          "name": "stdout",
          "text": [
            "Enter year: 2000\n",
            "Century year\n"
          ]
        }
      ]
    },
    {
      "cell_type": "markdown",
      "source": [
        "Question 5: Write a Python program that categorizes a given character into uppercase letter, lowercase letter, digit, or special character. Print the corresponding message.\n"
      ],
      "metadata": {
        "id": "a5G58Z4uv5ZS"
      }
    },
    {
      "cell_type": "code",
      "source": [
        "a = input(\"Enter a character: \")\n",
        "if a.isupper():\n",
        "  print(\"Uppercase letter\")\n",
        "elif a.islower():\n",
        "  print(\"Lowercase letter\")\n",
        "elif a.isdigit():\n",
        "  print(\"Digit\")\n",
        "else:\n",
        "  print(\"Special character\")"
      ],
      "metadata": {
        "colab": {
          "base_uri": "https://localhost:8080/"
        },
        "id": "2Pj-kW1q0S2u",
        "outputId": "025ca034-f528-4269-a015-96968a8f804a"
      },
      "execution_count": 6,
      "outputs": [
        {
          "output_type": "stream",
          "name": "stdout",
          "text": [
            "Enter a character: #\n",
            "Special character\n"
          ]
        }
      ]
    },
    {
      "cell_type": "markdown",
      "source": [
        "Question 6: Write a Python program that calculates the discount percentage based on the purchase amount. Print the corresponding discount percentage.\n"
      ],
      "metadata": {
        "id": "wx1wpx4D9Gpl"
      }
    },
    {
      "cell_type": "code",
      "source": [
        "purchase_amount = int(input(\"Enter purchase amount: \"))\n",
        "if purchase_amount>1000:\n",
        "  print(\"Discount percentage = 10%\")\n",
        "elif purchase_amount>700:\n",
        "  print(\"Discount percentage = 7%\")"
      ],
      "metadata": {
        "colab": {
          "base_uri": "https://localhost:8080/"
        },
        "id": "cHvdU9A29K-o",
        "outputId": "1fa172a2-b2bb-46bf-e8f7-4cde6e8584eb"
      },
      "execution_count": 20,
      "outputs": [
        {
          "output_type": "stream",
          "name": "stdout",
          "text": [
            "Enter purchase amount: 800\n",
            "Discount percentage = 7%\n"
          ]
        }
      ]
    },
    {
      "cell_type": "markdown",
      "source": [
        "Question 7: Write a Python program that checks if a given number is divisible by 2, 3, 5, or none of them. Print the corresponding message.\n"
      ],
      "metadata": {
        "id": "I_VS-MzP9LMf"
      }
    },
    {
      "cell_type": "code",
      "source": [
        "num1 = int(input(\"Enter a number: \"))\n",
        "if num1 % 2 == 0:\n",
        "  print(\"Divisible by 2\")\n",
        "elif num1 % 3 == 0:\n",
        "  print(\"Divisible by 3\")\n",
        "elif num1 % 5 == 0:\n",
        "  print(\"Divisible by 5\")"
      ],
      "metadata": {
        "colab": {
          "base_uri": "https://localhost:8080/"
        },
        "id": "c9Iwe8pr9NJN",
        "outputId": "1627a160-02d3-4d8c-90af-d0104cfa86de"
      },
      "execution_count": 21,
      "outputs": [
        {
          "output_type": "stream",
          "name": "stdout",
          "text": [
            "Enter a number: 10\n",
            "Divisible by 2\n"
          ]
        }
      ]
    },
    {
      "cell_type": "markdown",
      "source": [
        "Question 8: Write a Python program that determines the grade based on the percentage obtained. Print the corresponding grade.\n"
      ],
      "metadata": {
        "id": "t-BVDC4l9NXF"
      }
    },
    {
      "cell_type": "code",
      "source": [
        "percent = int(input(\"Enter percentage: \"))\n",
        "if percent>90:\n",
        "  print(\"Grade = A\")\n",
        "elif percent>80:\n",
        "  print(\"Grade = B\")\n",
        "elif percent>70:\n",
        "  print(\"Grade = C\")\n",
        "else:\n",
        "  print(\"Grade = F\")"
      ],
      "metadata": {
        "colab": {
          "base_uri": "https://localhost:8080/"
        },
        "id": "ib7kH33d9Plt",
        "outputId": "addddd39-e6e6-4bbe-c04f-432d1c8e9192"
      },
      "execution_count": 22,
      "outputs": [
        {
          "output_type": "stream",
          "name": "stdout",
          "text": [
            "Enter percentage: 65\n",
            "Grade = F\n"
          ]
        }
      ]
    },
    {
      "cell_type": "markdown",
      "source": [
        "Question 9: Write a Python program that checks if a given number is within a specific range. Print the corresponding message.\n"
      ],
      "metadata": {
        "id": "GgkgZrRP9P7d"
      }
    },
    {
      "cell_type": "code",
      "source": [
        "num1=int(input(\"Enter a number: \"))\n",
        "if num1 in range(1,10):\n",
        "  print(\"Number is in range 1- 10\")\n",
        "elif num1 in range(11,20):\n",
        "  print(\"Number is in range 11-20\")\n",
        "else:\n",
        "  print(\"Number is not in range\")"
      ],
      "metadata": {
        "colab": {
          "base_uri": "https://localhost:8080/"
        },
        "id": "aHt00oR99Smt",
        "outputId": "647a5315-3949-4917-f221-0151f509f9f7"
      },
      "execution_count": 24,
      "outputs": [
        {
          "output_type": "stream",
          "name": "stdout",
          "text": [
            "Enter a number: 21\n",
            "Number is not in range\n"
          ]
        }
      ]
    },
    {
      "cell_type": "markdown",
      "source": [
        "Question 10: Write a Python program that checks if a given string is an English word, a number, or a combination of both. Print the corresponding message."
      ],
      "metadata": {
        "id": "VqkhZY6t9S7Q"
      }
    },
    {
      "cell_type": "code",
      "source": [
        "string_1 = input(\"Enter a string: \")\n",
        "if string_1.isalpha():\n",
        "  print(\"English word\")\n",
        "elif string_1.isdigit():\n",
        "  print(\"Number\")\n",
        "else:\n",
        "  print(\"Combination of both\")"
      ],
      "metadata": {
        "colab": {
          "base_uri": "https://localhost:8080/"
        },
        "id": "xPDuBhSg1Hw8",
        "outputId": "e4bae311-f106-4666-bd65-aef59042a477"
      },
      "execution_count": 27,
      "outputs": [
        {
          "output_type": "stream",
          "name": "stdout",
          "text": [
            "Enter a string: vhg5\n",
            "Combination of both\n"
          ]
        }
      ]
    }
  ]
}